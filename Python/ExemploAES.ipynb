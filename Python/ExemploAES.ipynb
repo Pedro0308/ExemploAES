{
 "cells": [
  {
   "cell_type": "markdown",
   "metadata": {},
   "source": [
    "# Exemplo de AES usando Python\n",
    "\n",
    "Neste exemplo usamos criptografia, com as seguintes configurações:\n",
    "\n",
    "* Um cipher (ou coder) é um algoritmo que executa criptografia ou descriptografia, mediante uma série de etapas bem definidas que podem ser seguidas como um procedimento.\n",
    "* Utilizamos um algoritmo de criptografia denominado AES. Você ler mais na [wikipedia](https://pt.wikipedia.org/wiki/Advanced_Encryption_Standard). Logo abaixo tem uma breve descrição.\n",
    "* O modo de operação para cifras de bloco é Cipher Block Chaining (CBC). Este modo de operação é criado utilizando um vetor de inicialização (tipo uma segunda chave de criptografia).\n",
    "\n",
    "Com o AES, uma chave de um comprimento específico (por exemplo, 128, 192 e 256 bits) é utilizada para criptografar e descriptografar um bloco de mensagens. Cada cipher criptografa e descriptografa dados em blocos de \"x\" bits usando chaves criptográficas de tamanho pré-definido.\n",
    "Neste tipo de algoritmo, as chaves de criptografia são simétricas, isto é, a mesma chave é utilizada para criptografar e descriptografar.\n",
    "Assim, ambos os lados (remetente e destinario) devem conhecer e utilizar a mesma chave secreta.\n",
    "\n",
    "Neste notebook vamos ver um exemplo de como utilizá-la."
   ]
  },
  {
   "cell_type": "code",
   "execution_count": null,
   "metadata": {},
   "outputs": [],
   "source": [
    "# instalar as dependências"
   ]
  },
  {
   "cell_type": "code",
   "execution_count": 1,
   "metadata": {},
   "outputs": [
    {
     "name": "stdout",
     "output_type": "stream",
     "text": [
      "Requirement already satisfied: cryptography in c:\\users\\henri\\appdata\\local\\programs\\python\\python37\\lib\\site-packages (2.8)\n",
      "Requirement already satisfied: cffi!=1.11.3,>=1.8 in c:\\users\\henri\\appdata\\local\\programs\\python\\python37\\lib\\site-packages (from cryptography) (1.14.0)\n",
      "Requirement already satisfied: six>=1.4.1 in c:\\users\\henri\\appdata\\local\\programs\\python\\python37\\lib\\site-packages (from cryptography) (1.12.0)\n",
      "Requirement already satisfied: pycparser in c:\\users\\henri\\appdata\\local\\programs\\python\\python37\\lib\\site-packages (from cffi!=1.11.3,>=1.8->cryptography) (2.20)\n"
     ]
    },
    {
     "name": "stderr",
     "output_type": "stream",
     "text": [
      "WARNING: You are using pip version 20.1; however, version 20.1.1 is available.\n",
      "You should consider upgrading via the 'c:\\users\\henri\\appdata\\local\\programs\\python\\python37\\python.exe -m pip install --upgrade pip' command.\n"
     ]
    }
   ],
   "source": [
    "!pip install cryptography"
   ]
  },
  {
   "cell_type": "code",
   "execution_count": 2,
   "metadata": {},
   "outputs": [],
   "source": [
    "import os"
   ]
  },
  {
   "cell_type": "code",
   "execution_count": 3,
   "metadata": {},
   "outputs": [],
   "source": [
    "from cryptography.hazmat.primitives.ciphers import Cipher, algorithms, modes"
   ]
  },
  {
   "cell_type": "code",
   "execution_count": 4,
   "metadata": {},
   "outputs": [],
   "source": [
    "from cryptography.hazmat.backends import default_backend"
   ]
  },
  {
   "cell_type": "code",
   "execution_count": 5,
   "metadata": {},
   "outputs": [],
   "source": [
    "backend = default_backend()"
   ]
  },
  {
   "cell_type": "code",
   "execution_count": 6,
   "metadata": {},
   "outputs": [
    {
     "data": {
      "text/plain": [
       "b'\\xb9\\xed\\x8d7\\xb4\\xbca\\x8dpM=\\xcf\\xf2\\xb1\\x06m\\xd0\\x02\\xe2\\xa6>\\xa12\\xbb\\xdfNW\\xa1d\\xe9v\"'"
      ]
     },
     "execution_count": 6,
     "metadata": {},
     "output_type": "execute_result"
    }
   ],
   "source": [
    "key = os.urandom(32)\n",
    "key"
   ]
  },
  {
   "cell_type": "code",
   "execution_count": 7,
   "metadata": {},
   "outputs": [
    {
     "data": {
      "text/plain": [
       "b'8.h\\xd7]z\\xab\\\\J\\xa7p\\x1d\\xaf\\x04\\xf6N'"
      ]
     },
     "execution_count": 7,
     "metadata": {},
     "output_type": "execute_result"
    }
   ],
   "source": [
    "# initialization vector \n",
    "iv = os.urandom(16)\n",
    "iv"
   ]
  },
  {
   "cell_type": "markdown",
   "metadata": {},
   "source": [
    "# Definimos uma mensagem simples em ASCII"
   ]
  },
  {
   "cell_type": "code",
   "execution_count": 8,
   "metadata": {},
   "outputs": [],
   "source": [
    "MSG = \"esta eh a mensagem que quero encriptar\""
   ]
  },
  {
   "cell_type": "code",
   "execution_count": 9,
   "metadata": {},
   "outputs": [],
   "source": [
    "# criptografa"
   ]
  },
  {
   "cell_type": "markdown",
   "metadata": {},
   "source": [
    "### Passo 1 - conversão\n",
    "\n",
    "Para encriptar, não podemos passar diretamente a string. Precisamos converte-la em um array de bytes, pois o método de criptografia funciona sobre blocos de bytes."
   ]
  },
  {
   "cell_type": "code",
   "execution_count": 10,
   "metadata": {},
   "outputs": [],
   "source": [
    "b_MSG = bytearray(MSG, encoding=\"ascii\")  # mensagem tem que ser byte array"
   ]
  },
  {
   "cell_type": "markdown",
   "metadata": {},
   "source": [
    "### Passo 2 - Tentativa 1\n",
    "\n",
    "Tentamos criptografar diretamente a mensagem"
   ]
  },
  {
   "cell_type": "code",
   "execution_count": 11,
   "metadata": {
    "scrolled": false
   },
   "outputs": [
    {
     "ename": "ValueError",
     "evalue": "The length of the provided data is not a multiple of the block length.",
     "output_type": "error",
     "traceback": [
      "\u001b[1;31m---------------------------------------------------------------------------\u001b[0m",
      "\u001b[1;31mValueError\u001b[0m                                Traceback (most recent call last)",
      "\u001b[1;32m<ipython-input-11-b5e4e2bb3b63>\u001b[0m in \u001b[0;36m<module>\u001b[1;34m\u001b[0m\n\u001b[0;32m      8\u001b[0m \u001b[0mencryptor\u001b[0m \u001b[1;33m=\u001b[0m \u001b[0mcipher\u001b[0m\u001b[1;33m.\u001b[0m\u001b[0mencryptor\u001b[0m\u001b[1;33m(\u001b[0m\u001b[1;33m)\u001b[0m\u001b[1;33m\u001b[0m\u001b[1;33m\u001b[0m\u001b[0m\n\u001b[0;32m      9\u001b[0m \u001b[1;31m# tentar encriptar\u001b[0m\u001b[1;33m\u001b[0m\u001b[1;33m\u001b[0m\u001b[1;33m\u001b[0m\u001b[0m\n\u001b[1;32m---> 10\u001b[1;33m \u001b[0mct\u001b[0m \u001b[1;33m=\u001b[0m \u001b[0mencryptor\u001b[0m\u001b[1;33m.\u001b[0m\u001b[0mupdate\u001b[0m\u001b[1;33m(\u001b[0m\u001b[0mb_MSG\u001b[0m\u001b[1;33m)\u001b[0m \u001b[1;33m+\u001b[0m \u001b[0mencryptor\u001b[0m\u001b[1;33m.\u001b[0m\u001b[0mfinalize\u001b[0m\u001b[1;33m(\u001b[0m\u001b[1;33m)\u001b[0m\u001b[1;33m\u001b[0m\u001b[1;33m\u001b[0m\u001b[0m\n\u001b[0m",
      "\u001b[1;32mc:\\users\\henri\\appdata\\local\\programs\\python\\python37\\lib\\site-packages\\cryptography\\hazmat\\primitives\\ciphers\\base.py\u001b[0m in \u001b[0;36mfinalize\u001b[1;34m(self)\u001b[0m\n\u001b[0;32m    157\u001b[0m         \u001b[1;32mif\u001b[0m \u001b[0mself\u001b[0m\u001b[1;33m.\u001b[0m\u001b[0m_ctx\u001b[0m \u001b[1;32mis\u001b[0m \u001b[1;32mNone\u001b[0m\u001b[1;33m:\u001b[0m\u001b[1;33m\u001b[0m\u001b[1;33m\u001b[0m\u001b[0m\n\u001b[0;32m    158\u001b[0m             \u001b[1;32mraise\u001b[0m \u001b[0mAlreadyFinalized\u001b[0m\u001b[1;33m(\u001b[0m\u001b[1;34m\"Context was already finalized.\"\u001b[0m\u001b[1;33m)\u001b[0m\u001b[1;33m\u001b[0m\u001b[1;33m\u001b[0m\u001b[0m\n\u001b[1;32m--> 159\u001b[1;33m         \u001b[0mdata\u001b[0m \u001b[1;33m=\u001b[0m \u001b[0mself\u001b[0m\u001b[1;33m.\u001b[0m\u001b[0m_ctx\u001b[0m\u001b[1;33m.\u001b[0m\u001b[0mfinalize\u001b[0m\u001b[1;33m(\u001b[0m\u001b[1;33m)\u001b[0m\u001b[1;33m\u001b[0m\u001b[1;33m\u001b[0m\u001b[0m\n\u001b[0m\u001b[0;32m    160\u001b[0m         \u001b[0mself\u001b[0m\u001b[1;33m.\u001b[0m\u001b[0m_ctx\u001b[0m \u001b[1;33m=\u001b[0m \u001b[1;32mNone\u001b[0m\u001b[1;33m\u001b[0m\u001b[1;33m\u001b[0m\u001b[0m\n\u001b[0;32m    161\u001b[0m         \u001b[1;32mreturn\u001b[0m \u001b[0mdata\u001b[0m\u001b[1;33m\u001b[0m\u001b[1;33m\u001b[0m\u001b[0m\n",
      "\u001b[1;32mc:\\users\\henri\\appdata\\local\\programs\\python\\python37\\lib\\site-packages\\cryptography\\hazmat\\backends\\openssl\\ciphers.py\u001b[0m in \u001b[0;36mfinalize\u001b[1;34m(self)\u001b[0m\n\u001b[0;32m    177\u001b[0m             )\n\u001b[0;32m    178\u001b[0m             raise ValueError(\n\u001b[1;32m--> 179\u001b[1;33m                 \u001b[1;34m\"The length of the provided data is not a multiple of \"\u001b[0m\u001b[1;33m\u001b[0m\u001b[1;33m\u001b[0m\u001b[0m\n\u001b[0m\u001b[0;32m    180\u001b[0m                 \u001b[1;34m\"the block length.\"\u001b[0m\u001b[1;33m\u001b[0m\u001b[1;33m\u001b[0m\u001b[0m\n\u001b[0;32m    181\u001b[0m             )\n",
      "\u001b[1;31mValueError\u001b[0m: The length of the provided data is not a multiple of the block length."
     ]
    }
   ],
   "source": [
    "# 2.1 - criamos o objeto que criptografa AES com a chave gerada\n",
    "aes = algorithms.AES(key)\n",
    "# 2.2 - criamos o modo com o initialization vector criado na inicialização\n",
    "cbc = modes.CBC(iv)\n",
    "# criamos o cipher \n",
    "cipher = Cipher(aes, cbc, backend=backend)\n",
    "# obtem o encriptador a partir do cipher\n",
    "encryptor = cipher.encryptor()\n",
    "# tentar encriptar\n",
    "ct = encryptor.update(b_MSG) + encryptor.finalize()"
   ]
  },
  {
   "cell_type": "markdown",
   "metadata": {},
   "source": [
    "### Passo 2 - Tentativa 2\n",
    "\n",
    "O AES utilizando CBC exige que os dados sejam passados em blocos cujo tamanho seja múltiplo de 16 bytes.\n",
    "Assim precisarmos alterar a mensagem original para que ela tenha o tamanho adequado."
   ]
  },
  {
   "cell_type": "code",
   "execution_count": 12,
   "metadata": {},
   "outputs": [],
   "source": [
    "# 2.0 adequar o tamanho da mensagem original para que seja multipla de block_size\n",
    "block_size = 16\n",
    "n = len(b_MSG)\n",
    "spaces_add = block_size - n % block_size # calcular a qtd de espaços vamos adicionar ao final da mensagem\n",
    "new_b_MSG = bytearray(MSG + ' ' * spaces_add, encoding=\"utf8\")\n",
    "\n",
    "\n",
    "# 2.1 - criamos o objeto que criptografa AES com a chave gerada\n",
    "aes = algorithms.AES(key)\n",
    "# 2.2 - criamos o modo com o initialization vector criado na inicialização\n",
    "cbc = modes.CBC(iv)\n",
    "# 2.3 - criamos o cipher \n",
    "cipher = Cipher(aes, cbc, backend=backend)\n",
    "# 2.4 - obtem o encriptador a partir do cipher\n",
    "encryptor = cipher.encryptor()\n",
    "# tentar encriptar\n",
    "ct = encryptor.update(new_b_MSG) + encryptor.finalize()"
   ]
  },
  {
   "cell_type": "markdown",
   "metadata": {},
   "source": [
    "### Passo 3 - descriptografa\n",
    "\n",
    "Na verdade este passo é feito no destinatário.\n",
    "Note que no destinatário deveríamos fazer os passos 2.1 a 2.3 para criar o cipher."
   ]
  },
  {
   "cell_type": "code",
   "execution_count": 13,
   "metadata": {},
   "outputs": [],
   "source": [
    "# 3.4 - obtem o decriptador\n",
    "decryptor = cipher.decryptor()"
   ]
  },
  {
   "cell_type": "code",
   "execution_count": 14,
   "metadata": {},
   "outputs": [
    {
     "data": {
      "text/plain": [
       "b'esta eh a mensagem que quero encriptar          '"
      ]
     },
     "execution_count": 14,
     "metadata": {},
     "output_type": "execute_result"
    }
   ],
   "source": [
    "# 3.4 - decriptar a mensagem\n",
    "decryptor.update(ct) + decryptor.finalize()"
   ]
  },
  {
   "cell_type": "code",
   "execution_count": null,
   "metadata": {},
   "outputs": [],
   "source": []
  }
 ],
 "metadata": {
  "kernelspec": {
   "display_name": "Python 3",
   "language": "python",
   "name": "python3"
  },
  "language_info": {
   "codemirror_mode": {
    "name": "ipython",
    "version": 3
   },
   "file_extension": ".py",
   "mimetype": "text/x-python",
   "name": "python",
   "nbconvert_exporter": "python",
   "pygments_lexer": "ipython3",
   "version": "3.7.7"
  }
 },
 "nbformat": 4,
 "nbformat_minor": 2
}
